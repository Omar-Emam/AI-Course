{
 "cells": [
  {
   "cell_type": "code",
   "execution_count": 18,
   "id": "f19ca54f",
   "metadata": {},
   "outputs": [],
   "source": [
    "class Composition:\n",
    "    def __init__(self):\n",
    "        self.__attributes = dict()\n",
    "        self.__methods = dict()\n",
    "    \n",
    "    def addAttribute(self, attName, attValue):\n",
    "        self.__attributes[attName] = attValue\n",
    "    \n",
    "    def removeAttribute(self, attName):\n",
    "        del self.__attributes[attName]\n",
    "    \n",
    "    def setAttribute(self, attName, attValue):\n",
    "        self.__attributes[attName] = attValue\n",
    "        \n",
    "    def getAttribute(self, attName):\n",
    "        return self.__attributes[attName]\n",
    "        \n",
    "    def printAllAtt(self):\n",
    "        for i in self.__attributes:\n",
    "            print(i)\n",
    "            \n",
    "    def addMethod(self, methodName, method):\n",
    "        self.__methods[methodName] = method\n",
    "        \n",
    "    def removeMethod(self, methodName):\n",
    "        del self.__methods[methodName]\n",
    "        \n",
    "    def callMethod(self, methodName):\n",
    "        self.__methods[methodName]()\n",
    "        \n",
    "    def printAllMethods(self):\n",
    "        for i in self.__methods:\n",
    "            print(i)"
   ]
  },
  {
   "cell_type": "code",
   "execution_count": 19,
   "id": "3ac6d57b",
   "metadata": {},
   "outputs": [],
   "source": [
    "comp = Composition()"
   ]
  },
  {
   "cell_type": "code",
   "execution_count": 20,
   "id": "c77f8325",
   "metadata": {},
   "outputs": [],
   "source": [
    "comp.addAttribute(\"name\", \"Omar\")"
   ]
  },
  {
   "cell_type": "code",
   "execution_count": 21,
   "id": "5d6a0ba4",
   "metadata": {},
   "outputs": [
    {
     "data": {
      "text/plain": [
       "'Omar'"
      ]
     },
     "execution_count": 21,
     "metadata": {},
     "output_type": "execute_result"
    }
   ],
   "source": [
    "comp.getAttribute(\"name\")"
   ]
  },
  {
   "cell_type": "code",
   "execution_count": 22,
   "id": "f9b3cdef",
   "metadata": {},
   "outputs": [],
   "source": [
    "comp.addAttribute(\"age\", 22)"
   ]
  },
  {
   "cell_type": "code",
   "execution_count": 23,
   "id": "bc47d3d2",
   "metadata": {},
   "outputs": [
    {
     "name": "stdout",
     "output_type": "stream",
     "text": [
      "name\n",
      "age\n"
     ]
    }
   ],
   "source": [
    "comp.printAllAtt()\n"
   ]
  },
  {
   "cell_type": "code",
   "execution_count": 24,
   "id": "713bf035",
   "metadata": {},
   "outputs": [
    {
     "data": {
      "text/plain": [
       "22"
      ]
     },
     "execution_count": 24,
     "metadata": {},
     "output_type": "execute_result"
    }
   ],
   "source": [
    "comp.getAttribute(\"age\")"
   ]
  },
  {
   "cell_type": "code",
   "execution_count": 25,
   "id": "07b700c6",
   "metadata": {},
   "outputs": [],
   "source": [
    "comp.removeAttribute(\"age\")"
   ]
  },
  {
   "cell_type": "code",
   "execution_count": 26,
   "id": "64a6a3cb",
   "metadata": {},
   "outputs": [
    {
     "name": "stdout",
     "output_type": "stream",
     "text": [
      "name\n"
     ]
    }
   ],
   "source": [
    "comp.printAllAtt()"
   ]
  },
  {
   "cell_type": "code",
   "execution_count": 27,
   "id": "0e5db690",
   "metadata": {},
   "outputs": [],
   "source": [
    "def printSquare():\n",
    "    num = int(input(\"Please enter a number to square: \"))\n",
    "    print(num*num)"
   ]
  },
  {
   "cell_type": "code",
   "execution_count": 28,
   "id": "1fcd03bb",
   "metadata": {},
   "outputs": [],
   "source": [
    "comp.addMethod(\"square\", printSquare)"
   ]
  },
  {
   "cell_type": "code",
   "execution_count": 29,
   "id": "acf8ecba",
   "metadata": {},
   "outputs": [
    {
     "name": "stdout",
     "output_type": "stream",
     "text": [
      "Please enter a number to square: 4\n",
      "16\n"
     ]
    }
   ],
   "source": [
    "comp.callMethod(\"square\")"
   ]
  },
  {
   "cell_type": "code",
   "execution_count": null,
   "id": "23ea293c",
   "metadata": {},
   "outputs": [],
   "source": []
  }
 ],
 "metadata": {
  "kernelspec": {
   "display_name": "Python 3 (ipykernel)",
   "language": "python",
   "name": "python3"
  },
  "language_info": {
   "codemirror_mode": {
    "name": "ipython",
    "version": 3
   },
   "file_extension": ".py",
   "mimetype": "text/x-python",
   "name": "python",
   "nbconvert_exporter": "python",
   "pygments_lexer": "ipython3",
   "version": "3.9.7"
  }
 },
 "nbformat": 4,
 "nbformat_minor": 5
}
