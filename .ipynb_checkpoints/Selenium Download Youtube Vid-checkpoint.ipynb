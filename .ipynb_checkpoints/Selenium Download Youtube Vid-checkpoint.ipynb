{
 "cells": [
  {
   "cell_type": "code",
   "execution_count": 7,
   "id": "c330cbbc",
   "metadata": {},
   "outputs": [],
   "source": [
    "from selenium import webdriver\n",
    "import time"
   ]
  },
  {
   "cell_type": "code",
   "execution_count": 23,
   "id": "6256086b",
   "metadata": {},
   "outputs": [
    {
     "name": "stderr",
     "output_type": "stream",
     "text": [
      "C:\\Users\\omarm\\AppData\\Local\\Temp/ipykernel_15120/3279315364.py:1: DeprecationWarning: executable_path has been deprecated, please pass in a Service object\n",
      "  driver = webdriver.Chrome(\"C:\\Program Files (x86)\\chromedriver.exe\")\n"
     ]
    }
   ],
   "source": [
    "driver = webdriver.Chrome(\"C:\\Program Files (x86)\\chromedriver.exe\")"
   ]
  },
  {
   "cell_type": "code",
   "execution_count": null,
   "id": "b076ac7b",
   "metadata": {},
   "outputs": [
    {
     "name": "stdout",
     "output_type": "stream",
     "text": [
      "Enter youtube link: \n"
     ]
    }
   ],
   "source": [
    "youtube_link = input(\"Enter youtube link: \")\n",
    "\n",
    "driver.get('https://ytb.rip/en/')\n",
    "\n",
    "driver.find_element_by_id(\"search\").send_keys(youtube_link)\n",
    "\n",
    "driver.find_element_by_id(\"submit_url\").click()\n",
    "\n",
    "driver.find_element_by_id(\"video_url\").click()\n",
    "driver.find_element_by_id(\"video_url\").click() #In case of ad pop-up"
   ]
  },
  {
   "cell_type": "code",
   "execution_count": null,
   "id": "c37dd643",
   "metadata": {},
   "outputs": [],
   "source": []
  }
 ],
 "metadata": {
  "kernelspec": {
   "display_name": "Python 3 (ipykernel)",
   "language": "python",
   "name": "python3"
  },
  "language_info": {
   "codemirror_mode": {
    "name": "ipython",
    "version": 3
   },
   "file_extension": ".py",
   "mimetype": "text/x-python",
   "name": "python",
   "nbconvert_exporter": "python",
   "pygments_lexer": "ipython3",
   "version": "3.9.7"
  }
 },
 "nbformat": 4,
 "nbformat_minor": 5
}
