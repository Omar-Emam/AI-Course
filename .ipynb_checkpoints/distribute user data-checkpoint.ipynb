{
 "cells": [
  {
   "cell_type": "code",
   "execution_count": 13,
   "id": "6065a540",
   "metadata": {},
   "outputs": [],
   "source": [
    "import re"
   ]
  },
  {
   "cell_type": "code",
   "execution_count": 71,
   "id": "a2ece896",
   "metadata": {},
   "outputs": [],
   "source": [
    "emails = []\n",
    "names = []\n",
    "phoneNum = []"
   ]
  },
  {
   "cell_type": "code",
   "execution_count": 72,
   "id": "a84d6959",
   "metadata": {},
   "outputs": [],
   "source": [
    "pattern = re.compile(r\"[a-zA-Z0-9_.+-]+@[a-zA-Z0-9-]+\\.[a-zA-Z0-9-.]{2,}\")\n",
    "\n",
    "for line in open(\"random people data.txt\"):\n",
    "    for match in re.finditer(pattern, line):\n",
    "        emails.append(match.group(0))"
   ]
  },
  {
   "cell_type": "code",
   "execution_count": 73,
   "id": "fd9f3a41",
   "metadata": {},
   "outputs": [],
   "source": [
    "pattern = re.compile(r\"[A-Za-z]+\\s\")\n",
    "\n",
    "for line in open(\"random people data.txt\"):\n",
    "    for match in re.finditer(pattern, line):\n",
    "        names.append(match.group(0))"
   ]
  },
  {
   "cell_type": "code",
   "execution_count": 74,
   "id": "713994d5",
   "metadata": {},
   "outputs": [],
   "source": [
    "pattern = re.compile(r\"0(15|12|11|10)\\d{8}\")\n",
    "\n",
    "for line in open(\"random people data.txt\"):\n",
    "    for match in re.finditer(pattern, line):\n",
    "        phoneNum.append(match.group(0))"
   ]
  },
  {
   "cell_type": "code",
   "execution_count": 75,
   "id": "52a4b445",
   "metadata": {
    "scrolled": false
   },
   "outputs": [
    {
     "data": {
      "text/plain": [
       "['Omar ',\n",
       " 'com\\n',\n",
       " 'Ahmad ',\n",
       " 'com\\n',\n",
       " 'Yahia ',\n",
       " 'com\\n',\n",
       " 'Mohammad ',\n",
       " 'com\\n',\n",
       " 'Youssef ']"
      ]
     },
     "execution_count": 75,
     "metadata": {},
     "output_type": "execute_result"
    }
   ],
   "source": [
    "names"
   ]
  },
  {
   "cell_type": "code",
   "execution_count": 76,
   "id": "62e826bd",
   "metadata": {},
   "outputs": [
    {
     "data": {
      "text/plain": [
       "['omar_emam@gmail.com',\n",
       " 'ahmad@hotmail.com',\n",
       " 'yahia_@outlook.com',\n",
       " 'mo_h@yahoo.com',\n",
       " 'youssef_you@gmail.com']"
      ]
     },
     "execution_count": 76,
     "metadata": {},
     "output_type": "execute_result"
    }
   ],
   "source": [
    "emails"
   ]
  },
  {
   "cell_type": "code",
   "execution_count": 77,
   "id": "cc385ba9",
   "metadata": {},
   "outputs": [
    {
     "data": {
      "text/plain": [
       "['01121234529', '01214235223', '01512341232', '01123123723', '01241212324']"
      ]
     },
     "execution_count": 77,
     "metadata": {},
     "output_type": "execute_result"
    }
   ],
   "source": [
    "phoneNum"
   ]
  },
  {
   "cell_type": "code",
   "execution_count": null,
   "id": "dc04d837",
   "metadata": {},
   "outputs": [],
   "source": []
  }
 ],
 "metadata": {
  "kernelspec": {
   "display_name": "Python 3 (ipykernel)",
   "language": "python",
   "name": "python3"
  },
  "language_info": {
   "codemirror_mode": {
    "name": "ipython",
    "version": 3
   },
   "file_extension": ".py",
   "mimetype": "text/x-python",
   "name": "python",
   "nbconvert_exporter": "python",
   "pygments_lexer": "ipython3",
   "version": "3.9.7"
  }
 },
 "nbformat": 4,
 "nbformat_minor": 5
}
