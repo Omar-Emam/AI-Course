{
 "cells": [
  {
   "cell_type": "code",
   "execution_count": 27,
   "id": "e7315eaa",
   "metadata": {},
   "outputs": [],
   "source": [
    "from selenium import webdriver\n",
    "from selenium.webdriver.common.keys import Keys\n",
    "import time"
   ]
  },
  {
   "cell_type": "code",
   "execution_count": 22,
   "id": "a25d0856",
   "metadata": {},
   "outputs": [
    {
     "name": "stderr",
     "output_type": "stream",
     "text": [
      "C:\\Users\\omarm\\AppData\\Local\\Temp/ipykernel_34972/3279315364.py:1: DeprecationWarning: executable_path has been deprecated, please pass in a Service object\n",
      "  driver = webdriver.Chrome(\"C:\\Program Files (x86)\\chromedriver.exe\")\n"
     ]
    }
   ],
   "source": [
    "driver = webdriver.Chrome(\"C:\\Program Files (x86)\\chromedriver.exe\")"
   ]
  },
  {
   "cell_type": "code",
   "execution_count": 40,
   "id": "4c119ac1",
   "metadata": {},
   "outputs": [
    {
     "name": "stdout",
     "output_type": "stream",
     "text": [
      "Enter Your Username/Emailadfs\n",
      "Enter Your Passwordasdf\n"
     ]
    },
    {
     "name": "stderr",
     "output_type": "stream",
     "text": [
      "C:\\Users\\omarm\\AppData\\Local\\Temp/ipykernel_34972/1738016797.py:8: DeprecationWarning: find_element_by_link_text is deprecated. Please use find_element(by=By.LINK_TEXT, value=link_text) instead\n",
      "  signin = driver.find_element_by_link_text(\"Sign in\")\n",
      "C:\\Users\\omarm\\AppData\\Local\\Temp/ipykernel_34972/1738016797.py:13: DeprecationWarning: find_element_by_* commands are deprecated. Please use find_element() instead\n",
      "  username = driver.find_element_by_id('login_field')\n",
      "C:\\Users\\omarm\\AppData\\Local\\Temp/ipykernel_34972/1738016797.py:16: DeprecationWarning: find_element_by_* commands are deprecated. Please use find_element() instead\n",
      "  password = driver.find_element_by_id('password')\n"
     ]
    }
   ],
   "source": [
    "inputUsername = input(\"Enter Your Username/Email: \")\n",
    "inputPassword = input(\"Enter Your Password: \")\n",
    "\n",
    "driver.get('https://github.com/')\n",
    "\n",
    "signin = driver.find_element_by_link_text(\"Sign in\")\n",
    "signin.click()\n",
    "\n",
    "username = driver.find_element_by_id('login_field')\n",
    "username.send_keys(inputUsername)\n",
    "\n",
    "password = driver.find_element_by_id('password')\n",
    "password.send_keys(inputPassword)\n",
    "password.send_keys(Keys.RETURN)"
   ]
  },
  {
   "cell_type": "code",
   "execution_count": null,
   "id": "fc99ea51",
   "metadata": {},
   "outputs": [],
   "source": []
  }
 ],
 "metadata": {
  "kernelspec": {
   "display_name": "Python 3 (ipykernel)",
   "language": "python",
   "name": "python3"
  },
  "language_info": {
   "codemirror_mode": {
    "name": "ipython",
    "version": 3
   },
   "file_extension": ".py",
   "mimetype": "text/x-python",
   "name": "python",
   "nbconvert_exporter": "python",
   "pygments_lexer": "ipython3",
   "version": "3.9.7"
  }
 },
 "nbformat": 4,
 "nbformat_minor": 5
}
